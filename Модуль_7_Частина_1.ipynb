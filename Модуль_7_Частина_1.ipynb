{
  "nbformat": 4,
  "nbformat_minor": 0,
  "metadata": {
    "colab": {
      "provenance": [],
      "toc_visible": true
    },
    "kernelspec": {
      "name": "python3",
      "display_name": "Python 3"
    },
    "language_info": {
      "name": "python"
    }
  },
  "cells": [
    {
      "cell_type": "markdown",
      "metadata": {
        "id": "OeHSz3_b5ehN"
      },
      "source": [
        "# Задачі для теоретичного заняття тринадцятого дня\n",
        "\n",
        "Задачі теоретичного блоку: продемонструвати на практичному прикладі теорію визначення \"Магічні\" методи, Метод init, Методи str та repr, Методи getitem та setitem, Функтори, метод call, Створення власних менеджерів контексту, Створення об'єкта ітератора/генератора, Інкапсуляція у Python (property, setter), Перевизначення математичних операторів, Перевизначення операцій порівняння.\\\n",
        "Для самостійного опрацювання і спроб запускати всі існуючі задачі не заважаючи іншим студентам курсу потрібно здійснити наступні кроки:\n",
        "\n",
        "1. Натиснути кнопку \"Файл\" в лівому верхньому куті\n",
        "2. Вибрати пункт \"Зберегти копію на диску\"\n",
        "3. У вікні з вашою копією у правому верхньому куті натиснути \"Підключитись\"\n",
        "\n",
        "Можете запускати всі задачі, які забажаєте і писати власні програми вивчаючи функціонал цього середовища\n"
      ]
    },
    {
      "cell_type": "markdown",
      "source": [
        "## Магічні методи"
      ],
      "metadata": {
        "id": "zMZwokloIbym"
      }
    },
    {
      "cell_type": "markdown",
      "source": [
        "Метод `__init__`"
      ],
      "metadata": {
        "id": "UiYB--KFIjD6"
      }
    },
    {
      "cell_type": "code",
      "source": [
        "class Foo:\n",
        "    def __init__(self, value=None):\n",
        "        self.value = self.add_value(value)\n",
        "        self.print_text()\n",
        "\n",
        "    def print_text(self):\n",
        "        print('print_text')\n",
        "\n",
        "    def add_value(self, value):\n",
        "        return value + 60\n",
        "\n",
        "test = Foo(15)\n",
        "print(test.value)"
      ],
      "metadata": {
        "id": "Pl_2FHvdIlY4"
      },
      "execution_count": null,
      "outputs": []
    },
    {
      "cell_type": "code",
      "source": [
        "class Phone:\n",
        "    def __init__(self, value):\n",
        "        if not self.phone_validation(value):\n",
        "            raise ValueError\n",
        "\n",
        "    def phone_validation(self, value):\n",
        "        return len(value) == 10 and value.isnumeric()\n",
        "\n",
        "phone = Phone('1234567890')"
      ],
      "metadata": {
        "id": "MDdQpzMh6v-9"
      },
      "execution_count": null,
      "outputs": []
    },
    {
      "cell_type": "markdown",
      "source": [
        "### Метод `__new__`"
      ],
      "metadata": {
        "id": "ro61u6IZIlfw"
      }
    },
    {
      "cell_type": "markdown",
      "source": [
        "Він являється статичним методом і викликається при створені екземпляру класу.\n",
        " Потім вже метод `__init__()` ініціалізує цей екземпляр."
      ],
      "metadata": {
        "id": "rxQ34vmNIrsr"
      }
    },
    {
      "cell_type": "code",
      "source": [
        "class Foo:\n",
        "    def __new__(cls, *args, **kwargs):\n",
        "        print(\"Static method\")\n",
        "        instance = super(Foo, cls).__new__(cls)\n",
        "        return instance\n",
        "\n",
        "    def __init__(self, value=None):\n",
        "        print('Self constructor')\n",
        "        self.value = value\n",
        "\n",
        "test = Foo(134125235)\n",
        "print(id(test))\n",
        "\n",
        "test2 = Foo(134125235)\n",
        "print(id(test2))"
      ],
      "metadata": {
        "id": "Z9Sr108jI87W"
      },
      "execution_count": null,
      "outputs": []
    },
    {
      "cell_type": "markdown",
      "source": [
        "## Singelton"
      ],
      "metadata": {
        "id": "uHpvpPqRVbx6"
      }
    },
    {
      "cell_type": "markdown",
      "source": [
        "### object"
      ],
      "metadata": {
        "id": "PDpZdPPWWXIV"
      }
    },
    {
      "cell_type": "code",
      "source": [
        "\n",
        "class Singleton(object):\n",
        "    __instance = None\n",
        "\n",
        "    def __new__(cls, *args, **kwargs):\n",
        "        if not isinstance(cls.__instance, cls):\n",
        "            cls.__instance = object.__new__(cls)\n",
        "        return cls.__instance\n",
        "\n",
        "class Foo(Singleton):\n",
        "    def __init__(self, value=None):\n",
        "        self.value = value\n",
        "\n",
        "test = Foo(134125235)\n",
        "print(id(test), test.value)\n",
        "\n",
        "test2 = Foo(134125)\n",
        "print(id(test2),test2.value)\n",
        "\n",
        "print(id(test) == id(test2))\n",
        "print(id(test), test.value)"
      ],
      "metadata": {
        "id": "0frPQhw-VexQ"
      },
      "execution_count": null,
      "outputs": []
    },
    {
      "cell_type": "code",
      "source": [
        "\n",
        "class Singleton(type):\n",
        "    __instance = {}\n",
        "\n",
        "    def __new__(cls, *args, **kwargs):\n",
        "        if not isinstance(cls.__instance, cls):\n",
        "            cls.__instance[cls] = super(Singleton, cls).__call__(*args, **kwargs)\n",
        "        return cls.__instance[cls]\n",
        "\n",
        "class Foo(metaclass=Singleton):\n",
        "    # __metaclass__ = Singleton # Python 2\n",
        "    def __init__(self, value=None):\n",
        "        self.value = value\n",
        "\n",
        "test = Foo(134125235)\n",
        "print(id(test), test.value)\n",
        "\n",
        "test2 = Foo(134125)\n",
        "print(id(test2),test2.value)\n",
        "\n",
        "print(id(test) == id(test2))\n",
        "print(id(test), test.value)"
      ],
      "metadata": {
        "id": "GEjgAxl1WeZb"
      },
      "execution_count": null,
      "outputs": []
    },
    {
      "cell_type": "markdown",
      "source": [
        "### Методи `__str__` і `__repr__`"
      ],
      "metadata": {
        "id": "Zmmng6sxI_wy"
      }
    },
    {
      "cell_type": "code",
      "source": [
        "from datetime import datetime\n",
        "\n",
        "test = datetime.now()\n",
        "\n",
        "test_str = '12345'\n",
        "test_list = [1, 2, 3]\n",
        "\n",
        "print(str(test)) # 2024-05-13 20:15:18.596642\n",
        "print(repr(test)) # datetime.datetime(2024, 5, 13, 20, 15, 18, 596642)\n",
        "\n",
        "print(str(test_str)) # 12345\n",
        "print(repr(test_str)) # '12345'\n",
        "\n",
        "print(str(test_list)) # [1, 2, 3]\n",
        "print(repr(test_list)) # [1, 2, 3]\n",
        "\n",
        "\n",
        "print(test, test_str, test_list, sep='\\n')"
      ],
      "metadata": {
        "id": "cJowcgeBYppq"
      },
      "execution_count": null,
      "outputs": []
    },
    {
      "cell_type": "code",
      "source": [
        "class Complex:\n",
        "    def __init__(self, real, image):\n",
        "        self.real = real\n",
        "        self.image= image\n",
        "\n",
        "    def __repr__(self):\n",
        "        return f\"{self.real} - {self.image}i\"\n",
        "\n",
        "    def __str__(self):\n",
        "        return f\"{self.real} + {self.image}i\"\n",
        "\n",
        "\n",
        "\n",
        "number = Complex(10, 20)\n",
        "print(number)\n",
        "print(str(number))\n",
        "print(repr(number))"
      ],
      "metadata": {
        "id": "x7ouIBiKJBo9"
      },
      "execution_count": null,
      "outputs": []
    },
    {
      "cell_type": "markdown",
      "source": [
        "### Методи getitem і setitem"
      ],
      "metadata": {
        "id": "w4_WVWuxJH4I"
      }
    },
    {
      "cell_type": "code",
      "source": [
        "from collections import UserDict\n",
        "\n",
        "class PositiveNumber(UserDict):\n",
        "\n",
        "    def __getitem__(self, idx=None):\n",
        "        if idx is None:\n",
        "            return self.data\n",
        "        return self.data[idx]\n",
        "\n",
        "    def __setitem__(self, key, value):\n",
        "        if value > 0:\n",
        "            self.data[key] = value\n",
        "\n",
        "\n",
        "numbers=PositiveNumber()\n",
        "\n",
        "numbers[3] = 1\n",
        "numbers[1] = -3\n",
        "numbers[None] = 5\n",
        "numbers[2] = 7\n",
        "\n",
        "print(numbers[2])\n",
        "print(numbers)"
      ],
      "metadata": {
        "id": "yxeE--I7JJ1e"
      },
      "execution_count": null,
      "outputs": []
    },
    {
      "cell_type": "code",
      "source": [
        "class PositiveNumber():\n",
        "\n",
        "    def __init__(self, data=None):\n",
        "        if data is None:\n",
        "            self.data = dict()\n",
        "        self.data = data\n",
        "\n",
        "    def __getitem__(self, idx=None):\n",
        "        if idx is None:\n",
        "            return self.data\n",
        "        return self.data[idx]\n",
        "\n",
        "    def __setitem__(self, key, value):\n",
        "        if value > 0:\n",
        "            self.data[key] = value\n",
        "\n",
        "    def __str__(self):\n",
        "        return f\"{self.data}\"\n",
        "\n",
        "\n",
        "numbers=PositiveNumber()\n",
        "\n",
        "numbers[3] = 1\n",
        "numbers[1] = -3\n",
        "numbers[None] = 5\n",
        "numbers[2] = 7\n",
        "\n",
        "print(numbers[2])\n",
        "print(numbers)"
      ],
      "metadata": {
        "id": "UjRfpJ8PD-eq"
      },
      "execution_count": null,
      "outputs": []
    },
    {
      "cell_type": "markdown",
      "source": [
        "### Функтори, метод `__call__`"
      ],
      "metadata": {
        "id": "ZKqksGPoJJ8d"
      }
    },
    {
      "cell_type": "code",
      "source": [
        "\n",
        "def print_text():\n",
        "    print('Hello')\n",
        "\n",
        "print_text()\n",
        "\n",
        "class Product:\n",
        "    def __init__(self, value_one, value_two):\n",
        "        self.value_one = value_one\n",
        "        self.value_two = value_two\n",
        "\n",
        "    def __call__(self):\n",
        "        return self.value_one * self.value_two\n",
        "\n",
        "product = Product(6, 6)\n",
        "\n",
        "print(product())"
      ],
      "metadata": {
        "id": "5EupAzOVJNQ_"
      },
      "execution_count": null,
      "outputs": []
    },
    {
      "cell_type": "code",
      "source": [
        "class Product:\n",
        "    def __call__(self, value_one, value_two):\n",
        "        return value_one * value_two\n",
        "\n",
        "product = Product()\n",
        "\n",
        "print(product(5, 9))"
      ],
      "metadata": {
        "id": "kEtb-yh_Z2lA"
      },
      "execution_count": null,
      "outputs": []
    },
    {
      "cell_type": "code",
      "source": [
        "def class_decorator(cls):\n",
        "    cls.magic_value = 40\n",
        "    return cls\n",
        "\n",
        "@class_decorator\n",
        "class Product:\n",
        "    def __call__(self, value_one, value_two):\n",
        "        return value_one * self.__divide(value_two)\n",
        "\n",
        "    def __divide(self, value):\n",
        "        print('Test data')\n",
        "        return value / Product.magic_value\n",
        "\n",
        "product = Product()\n",
        "\n",
        "print(product(5, 9))\n",
        "print(product.magic_value)"
      ],
      "metadata": {
        "id": "Sy1SUKqlaxtU"
      },
      "execution_count": null,
      "outputs": []
    },
    {
      "cell_type": "markdown",
      "source": [
        "## Створення власних менеджерів контексту"
      ],
      "metadata": {
        "id": "a6Sp9OHEJNZa"
      }
    },
    {
      "cell_type": "markdown",
      "source": [
        "Для того, щоб об'єкт можна було використовувати в конструкції `with ... as ...:` в об'єкті мають бути визначені два методи: `__enter__`, `__exit__`.\n",
        "\n",
        "`__enter__` -- метод, який приймає тільки один аргумент `self`. Якщо метод щось повертає, то його виведення буде записано у змінну `val` у конструкції `with context_manager as val:`.\n",
        "\n",
        "`__exit__` -- обов'язково приймає 4 аргументи: `self`, `exception type`, `exception value`, `exception traceback`. Ці аргументи потрібні для коректної обробки винятків усередині `__exit__`."
      ],
      "metadata": {
        "id": "IBYMsYhEJbAf"
      }
    },
    {
      "cell_type": "code",
      "source": [
        "class FileWriter:\n",
        "    def __init__(self, filename):\n",
        "        self.file = None\n",
        "        self.opened = None\n",
        "        self.filename = filename\n",
        "\n",
        "    def __enter__(self):\n",
        "        self.file = open(self.filename, 'w')\n",
        "        self.opened = True\n",
        "        return self.file\n",
        "\n",
        "    def __exit__(self, exc_type, exc_val, exc_tb):\n",
        "        if self.opened:\n",
        "            self.file.close()\n",
        "        if exc_val is not None:\n",
        "            print('Oh No!!!')\n",
        "\n",
        "\n",
        "with FileWriter('new_file.txt') as file:\n",
        "    file.write('Hello \\n Bye')"
      ],
      "metadata": {
        "id": "V48orHWNJU-u"
      },
      "execution_count": null,
      "outputs": []
    },
    {
      "cell_type": "markdown",
      "source": [
        "## Створення об'єкта генератора/ітератора"
      ],
      "metadata": {
        "id": "LjhGOfdrJrzO"
      }
    },
    {
      "cell_type": "markdown",
      "source": [
        "Протокол ітератора в Python реалізовано за допомогою методу `__iter__`. Цей метод повинен повертати ітератор. Ітератором може бути будь-який об'єкт, у якого є метод `__next__`, який при кожному виклику повертає значення. Щоб створити ітератор, достатньо реалізувати метод `__next__`."
      ],
      "metadata": {
        "id": "5DboiM8NJ2yY"
      }
    },
    {
      "cell_type": "code",
      "source": [
        "class MultIterator:\n",
        "    def __init__(self, seq, stop=1):\n",
        "        self.seq = seq\n",
        "        self.stop = stop\n",
        "        self.loop = 0\n",
        "        self.idx = 0\n",
        "\n",
        "    def __iter__(self):\n",
        "        return self\n",
        "\n",
        "    def __next__(self):\n",
        "        if self.loop >= self.stop:\n",
        "            raise StopIteration\n",
        "        value = self.seq[self.idx]\n",
        "        self.idx += 1\n",
        "        if self.idx == len(self.seq):\n",
        "            self.idx = 0\n",
        "            self.loop += 1\n",
        "        return value\n",
        "\n",
        "seq = [1, 2, 3,4, True, None, 'test', 23]\n",
        "\n",
        "my_iterator = MultIterator(seq, 2)\n",
        "for value in my_iterator:\n",
        "    print(value, end='\\t')"
      ],
      "metadata": {
        "id": "ogvKsD6vJxBO"
      },
      "execution_count": null,
      "outputs": []
    },
    {
      "cell_type": "markdown",
      "source": [
        "## Property"
      ],
      "metadata": {
        "id": "M1VZ9J9AMaUf"
      }
    },
    {
      "cell_type": "code",
      "source": [
        "class Person:\n",
        "    def __init__(self, name, age):\n",
        "        self.__name = name\n",
        "        self.__age = age\n",
        "\n",
        "    def get_name(self):\n",
        "        return self.__name\n",
        "\n",
        "    def set_name(self, name):\n",
        "        self.__name = name\n",
        "\n",
        "\n",
        "\n",
        "person = Person('Oleh', '23')\n",
        "\n",
        "print(person.get_name())\n",
        "person.set_name('Test')\n",
        "print(person.get_name())"
      ],
      "metadata": {
        "id": "d_Kdyf9BMafD"
      },
      "execution_count": null,
      "outputs": []
    },
    {
      "cell_type": "code",
      "source": [
        "class Person:\n",
        "    def __init__(self, name, age):\n",
        "        self.__name = name\n",
        "        self.__age = age\n",
        "\n",
        "    def get_name(self):\n",
        "        return self.__name\n",
        "\n",
        "    def set_name(self, name):\n",
        "        self.__name = name\n",
        "\n",
        "    name = property(get_name, set_name)\n",
        "\n",
        "\n",
        "person = Person('Oleh', '23')\n",
        "\n",
        "print(person.name)\n",
        "person.name = 'Test'\n",
        "print(person.name)"
      ],
      "metadata": {
        "id": "VVVSo4Jmpqz0"
      },
      "execution_count": null,
      "outputs": []
    },
    {
      "cell_type": "code",
      "source": [
        "class Person:\n",
        "    def __init__(self, name, age):\n",
        "        self.__name = name\n",
        "        self.__age = age\n",
        "\n",
        "    @property\n",
        "    def name(self):\n",
        "        return self.__name\n",
        "\n",
        "    @name.setter\n",
        "    def name(self, name):\n",
        "        self.__name = name\n",
        "\n",
        "person = Person('Oleh', '23')\n",
        "\n",
        "print(person.name)\n",
        "person.name = 'Test'\n",
        "print(person.name)\n",
        "\n",
        "print(person.__dict__)"
      ],
      "metadata": {
        "id": "P-vFZlIVpq37"
      },
      "execution_count": null,
      "outputs": []
    },
    {
      "cell_type": "markdown",
      "source": [
        "## Переоприділення математичних операцій і логічних"
      ],
      "metadata": {
        "id": "XQRWFNWoNW3-"
      }
    },
    {
      "cell_type": "markdown",
      "source": [
        "### Математичне"
      ],
      "metadata": {
        "id": "AXm8N5wANn08"
      }
    },
    {
      "cell_type": "code",
      "source": [
        "class Adder:\n",
        "    def __add__(self, obj):\n",
        "        raise NotImplemented\n",
        "\n",
        "\n",
        "class ListAdder(Adder):\n",
        "    def __init__(self, list_with_values=None):\n",
        "        if list_with_values is None:\n",
        "            self.list = list()\n",
        "        self.list = list_with_values\n",
        "\n",
        "    def __add__(self, obj):\n",
        "        return sorted(self.list + obj.list)\n",
        "\n",
        "class DictAdder(Adder):\n",
        "    def __init__(self, dict_with_values=None):\n",
        "        if dict_with_values is None:\n",
        "            self.dict = dict()\n",
        "        self.dict = dict_with_values\n",
        "\n",
        "    def __add__(self, obj):\n",
        "        return {**self.dict, **obj.dict}\n",
        "\n",
        "list_adder = ListAdder([5, 2])\n",
        "list_adder2 = ListAdder([3, 9])\n",
        "\n",
        "print(list_adder + list_adder2)\n",
        "\n",
        "dict_adder = DictAdder({1: 'a', 2: 'b'})\n",
        "dict_adder2 = DictAdder({3: 'c', 4: 'd'})\n",
        "\n",
        "print(dict_adder + dict_adder2)"
      ],
      "metadata": {
        "id": "y3EqLjTjNdZc"
      },
      "execution_count": null,
      "outputs": []
    },
    {
      "cell_type": "markdown",
      "source": [
        "### Логічне"
      ],
      "metadata": {
        "id": "_W5w67AtNpy9"
      }
    },
    {
      "cell_type": "code",
      "source": [
        "class Car:\n",
        "\n",
        "    def __init__(self, name, year, price):\n",
        "        self.name = name\n",
        "        self.year = year\n",
        "        self.price = price\n",
        "\n",
        "    def __lt__(self, other):\n",
        "        return self.price < other.price\n",
        "\n",
        "    def __gt__(self, other):\n",
        "        return self.price > other.price\n",
        "\n",
        "    def __le__(self, other):\n",
        "        return self.price <= other.price\n",
        "\n",
        "    def __ge__(self, other):\n",
        "        return self.price >= other.price\n",
        "\n",
        "    def __eq__(self, other):\n",
        "        return self.price == other.price\n",
        "\n",
        "car_one = Car('Opel', 2005, 20000)\n",
        "car_two = Car(\"Ford\", 2005, 12000)\n",
        "\n",
        "print(car_one == car_two)\n",
        "print(car_one < car_two)\n",
        "print(car_one <= car_two)\n"
      ],
      "metadata": {
        "id": "BThBRFcwNd0_"
      },
      "execution_count": null,
      "outputs": []
    },
    {
      "cell_type": "markdown",
      "source": [
        "### @staticmethod @classmethod"
      ],
      "metadata": {
        "id": "469M9c1_SBjQ"
      }
    },
    {
      "cell_type": "code",
      "source": [
        "class StringSplitter:\n",
        "\n",
        "    hello = 'hello-GoIt'\n",
        "\n",
        "    def __init__(self, hello):\n",
        "        self.hello = hello\n",
        "        self.current = 10\n",
        "        self.previous = 7\n",
        "\n",
        "    @staticmethod\n",
        "    def add(value, object):\n",
        "        return {**value, **object}\n",
        "\n",
        "    @classmethod\n",
        "    def from_string(cls):\n",
        "        parts = cls.hello.split('-')\n",
        "        return parts\n",
        "\n",
        "\n",
        "\n",
        "test = StringSplitter('Oleh')\n",
        "test2 = StringSplitter('User')\n",
        "print(id(test), id(test2))\n",
        "print(test2.from_string())\n",
        "\n",
        "print(StringSplitter.add({1: 'a', 2: 'b'}, {3: 'c', 4: 'd'}))"
      ],
      "metadata": {
        "id": "mpJs_I84SBA3"
      },
      "execution_count": null,
      "outputs": []
    },
    {
      "cell_type": "markdown",
      "source": [
        "Написати Contex Manager FileReader, який пише в лог timestamp, коли файл був відкритий, timestamp, коли файл був закритий, ім'я файлу, і як довго файл був відкритий з точністю до секунд."
      ],
      "metadata": {
        "id": "0DH15QB5GnGM"
      }
    },
    {
      "cell_type": "code",
      "source": [
        "from datetime import datetime\n",
        "from time import sleep\n",
        "\n",
        "class FileReader:\n",
        "\n",
        "    def __init__(self, filename):\n",
        "        self.file = None\n",
        "        self.opened = None\n",
        "        self.log = ''\n",
        "        self.tmstmp = None\n",
        "        self.filename = filename\n",
        "\n",
        "    def __enter__(self):\n",
        "        self.file = open(self.filename, 'r')\n",
        "        self.opened = True\n",
        "        self.tmstmp = datetime.now().timestamp()\n",
        "        msg = '{:<20}|{:^15}|\\n'.format(self.tmstmp, self.filename)\n",
        "        self.log += msg\n",
        "        return self.file\n",
        "\n",
        "    def __exit__(self, exc_type, exc_val, exc_tb):\n",
        "        if self.opened:\n",
        "            self.file.close()\n",
        "            tmstmp = datetime.now().timestamp()\n",
        "            diff = tmstmp - self.tmstmp\n",
        "            msg = '{:<20}|{:^15}|{:>4.0f}\\n'.format(tmstmp, self.filename, diff)\n",
        "            self.log += msg\n",
        "        self.opened = False\n",
        "        if exc_val is not None:\n",
        "            print(\"Oh NO!!!\")\n",
        "\n",
        "reader = FileReader('new_file.txt')\n",
        "\n",
        "with reader as f:\n",
        "    print(f.read())\n",
        "\n",
        "with reader as f:\n",
        "    sleep(2)\n",
        "    print(f.read())\n",
        "\n",
        "print(reader.log)"
      ],
      "metadata": {
        "id": "pagXCDsKGedb"
      },
      "execution_count": null,
      "outputs": []
    },
    {
      "cell_type": "markdown",
      "source": [
        "Напишемо декоратор, який декорує всі методи класу:"
      ],
      "metadata": {
        "id": "XBhsGs1EG43m"
      }
    },
    {
      "cell_type": "code",
      "source": [
        "from time import sleep\n",
        "import datetime\n",
        "\n",
        "def time_this(original_function):\n",
        "    print('Decorating')\n",
        "    def inner_function(*args, **kwargs):\n",
        "        print('Start timer')\n",
        "        before = datetime.datetime.now()\n",
        "        func = original_function(*args, **kwargs)\n",
        "        after = datetime.datetime.now()\n",
        "        print('Elapsed Time = {}'.format(after-before))\n",
        "        return func\n",
        "    return inner_function\n",
        "\n",
        "def time_all_class_method(cls):\n",
        "    class NewCls(object):\n",
        "        def __init__(self, *args, **kwargs):\n",
        "            self.oInstance = cls(*args, **kwargs)\n",
        "\n",
        "        def __getattribute__(self, item):\n",
        "            \"\"\"\n",
        "            це викликається щоразу, коли здійснюється доступ до будь-якого атрибута об'єкта NewCls. Ця функція спочатку намагається\n",
        "            отримати атрибут від NewCls. Якщо це не вдається, вона намагається отримати атрибут із self.oInstance (екземпляр декорованого класу).\n",
        "            Якщо йому вдасться отримати атрибут із self.oInstance і атрибут є методом екземпляра, тоді застосовується `time_this`.\n",
        "            \"\"\"\n",
        "            try:\n",
        "                attr = super(NewCls, self).__getattribute__(item)\n",
        "            except AttributeError:\n",
        "                pass\n",
        "            else:\n",
        "                return attr\n",
        "            attr = self.oInstance.__getattribute__(item)\n",
        "            if type(attr) == type(self.__init__):\n",
        "                return time_this(attr)\n",
        "            else:\n",
        "                return attr\n",
        "    return NewCls\n",
        "\n",
        "@time_all_class_method\n",
        "class Foo(object):\n",
        "\n",
        "    def foo_func(self):\n",
        "        print('Entering foo_func')\n",
        "        sleep(2)\n",
        "        print('Exit foo_func')\n",
        "\n",
        "    def baz_func(self):\n",
        "        print('Entering baz_func')\n",
        "        sleep(1)\n",
        "        print('Exit baz_func')\n",
        "\n",
        "test = Foo()\n",
        "test.foo_func()\n",
        "test.baz_func()"
      ],
      "metadata": {
        "id": "bYnZSpmaGeod"
      },
      "execution_count": null,
      "outputs": []
    },
    {
      "cell_type": "markdown",
      "source": [
        "### Створити клас для збереження паролю з можливістю його зміни і добавляння закритої інформації"
      ],
      "metadata": {
        "id": "HfRbVVKsG7eD"
      }
    },
    {
      "cell_type": "code",
      "source": [
        "class KeyStore:\n",
        "    def __init__(self, name, password):\n",
        "        self.__password = None\n",
        "        self.__secret = None\n",
        "        self.name = name\n",
        "        self.password = password\n",
        "\n",
        "\n",
        "    @property\n",
        "    def password(self):\n",
        "        return 'No way to get password back'\n",
        "\n",
        "    @password.setter\n",
        "    def password(self, value):\n",
        "        if self.__password is None:\n",
        "            self.__password = value\n",
        "        else:\n",
        "            if self.validate():\n",
        "                print('Password correct')\n",
        "                self.__password = value\n",
        "            else:\n",
        "                print('Incorrect')\n",
        "\n",
        "    @property\n",
        "    def secret(self):\n",
        "        if self.validate():\n",
        "            return self.__secret\n",
        "\n",
        "    @secret.setter\n",
        "    def secret(self, value):\n",
        "        if self.validate():\n",
        "            self.__secret = value\n",
        "\n",
        "    def validate(self):\n",
        "        value = input(\"Password: \")\n",
        "        if self.__password == value:\n",
        "            print('Ok')\n",
        "            return True\n",
        "        print(\"Wrong password\")\n",
        "        return False\n",
        "\n",
        "k_store = KeyStore('Krab', '123456')\n",
        "k_store.password = '111'\n",
        "print(k_store.password)\n",
        "k_store.password = '567890'\n",
        "k_store.secret = 'TEST'\n",
        "print(k_store.secret)"
      ],
      "metadata": {
        "id": "ZzAcgXbJGewm"
      },
      "execution_count": null,
      "outputs": []
    },
    {
      "cell_type": "markdown",
      "source": [
        "### Створіть класи\n",
        "\n",
        "1. `item`\n",
        "2. `order`\n",
        "3. `customer`\n",
        "4. `seller`\n",
        "5. `manufacturer`\n",
        "\n",
        "- `order` -- містить список `items`\n",
        "- `seller` -- може додати/видалити товар у замовлення і підтвердити замовлення (відправити виробнику)\n",
        "- `customer` -- може переглядати товари по порядку\n",
        "- `manufacturer` -- може додати замовлення у внутрішній список замовлень, показати стан готовності (`True`/`False`) для замовлення\n",
        "і встановити замовлення як завершене"
      ],
      "metadata": {
        "id": "ZGsHt5tGHAO6"
      }
    },
    {
      "cell_type": "code",
      "source": [
        "from uuid import uuid1\n",
        "\n",
        "\n",
        "class NotEnoughRights(Exception):\n",
        "    def __init__(self, *value):\n",
        "        self.value = value\n",
        "\n",
        "    def __str__(self):\n",
        "        return 'You have not enough rights for this' + repr(self.value)\n",
        "\n",
        "\n",
        "class Item:\n",
        "    def __init__(self, name, price):\n",
        "        self.name = name\n",
        "        self.price = price\n",
        "\n",
        "\n",
        "class Order:\n",
        "    def __init__(self, id_=None):\n",
        "        if id_ is None:\n",
        "            id_ = uuid1().int\n",
        "        self.id = id_\n",
        "        self.items = list()\n",
        "        self.total = 0\n",
        "\n",
        "    def __add__(self, item):\n",
        "        self.items.append(item)\n",
        "        self.total += item.price\n",
        "\n",
        "    def __sub__(self, item):\n",
        "        if item in self.items:\n",
        "            self.items.remove(item)\n",
        "            self.total -= item.price\n",
        "\n",
        "    def __str__(self):\n",
        "        msg = \"Items\\n\"\n",
        "        if self.items:\n",
        "            for item in self.items:\n",
        "                msg += f\"{item.name}:{item.price}\\n\"\n",
        "        msg += f'Total: {self.total}'\n",
        "        return msg\n",
        "\n",
        "\n",
        "class Person:\n",
        "\n",
        "    def add(self, *args):\n",
        "        raise NotEnoughRights\n",
        "\n",
        "    def sub(self, *args):\n",
        "        raise NotEnoughRights\n",
        "\n",
        "    def view(self, *args):\n",
        "        raise NotEnoughRights\n",
        "\n",
        "    def confirm(self, *args):\n",
        "        raise NotEnoughRights\n",
        "\n",
        "    def complete(self, *args):\n",
        "        raise NotEnoughRights\n",
        "\n",
        "\n",
        "class Customer(Person):\n",
        "    def view(self, order):\n",
        "        return str(order)\n",
        "\n",
        "\n",
        "class Seller(Person):\n",
        "    def add(self, item, order=None):\n",
        "        if order is None:\n",
        "            order = Order()\n",
        "        order + item\n",
        "        return order\n",
        "\n",
        "    def sub(self, item, order):\n",
        "        order - item\n",
        "\n",
        "    def view(self, order):\n",
        "        return str(order)\n",
        "\n",
        "    def confirm(self, order, manufacturer):\n",
        "        manufacturer.add(order)\n",
        "\n",
        "\n",
        "class Manufacturer(Person):\n",
        "    def __init__(self):\n",
        "        self.orders = dict()\n",
        "\n",
        "    @property\n",
        "    def order_list(self):\n",
        "        return list(self.orders.keys())\n",
        "\n",
        "    def add(self, order):\n",
        "        self.orders[order.id] = False\n",
        "\n",
        "    def view(self, order):\n",
        "        if order.id in self.orders:\n",
        "            return self.orders[order.id]\n",
        "\n",
        "    def complete(self, order):\n",
        "        if order.id in self.orders:\n",
        "            self.orders[order.id] = True\n"
      ],
      "metadata": {
        "id": "5sdBZBCNHBU3"
      },
      "execution_count": null,
      "outputs": []
    },
    {
      "cell_type": "code",
      "source": [
        "ball = Item(\"Ball\", 10)\n",
        "cup = Item(\"Cup\", 5)\n",
        "bag = Item(\"Bag\", 15)\n",
        "\n",
        "seller = Seller()\n",
        "customer = Customer()\n",
        "manufacturer = Manufacturer()\n",
        "\n",
        "new_order = seller.add(ball)\n",
        "print(seller.view(new_order))\n",
        "print(customer.view(new_order))\n",
        "\n",
        "seller.add(cup, new_order)\n",
        "print(customer.view(new_order))\n",
        "\n",
        "seller.sub(cup, new_order)\n",
        "print(customer.view(new_order))\n",
        "\n",
        "seller.add(bag, new_order)\n",
        "print(customer.view(new_order))\n",
        "\n",
        "seller.confirm(new_order, manufacturer)\n",
        "print(manufacturer.order_list)\n",
        "print(manufacturer.view(new_order))\n",
        "manufacturer.complete(new_order)\n",
        "print(manufacturer.view(new_order))"
      ],
      "metadata": {
        "id": "-i5cLm_xHDc6"
      },
      "execution_count": null,
      "outputs": []
    },
    {
      "cell_type": "markdown",
      "source": [
        "### Є лікарня, в якій є Лікарі та Пацієнти. \\\n",
        "У кожного Пацієнта є Історія_хвороб\\\n",
        "В Історії_хвороб зберігається 10 останніх Хвороб.\\\n",
        "Хвороба містить інформацію про те, коли пацієнт захворів, \\\n",
        "хто його лікував, коли одужав (якщо одужав),\\\n",
        "процедури та лікування, які призначив лікар.\\\n",
        "\n",
        "Лікар може призначати процедури (наприклад діагностичні) та лікування\n",
        "(наприклад курс ліків).\n",
        "У лікарів і пацієнтів є Ім'я та Прізвище. У пацієнтів є номер поліса\n",
        "соціального страхування. У лікарів є посада.\n",
        "Пацієнт не може змінювати свою Історію_хвороб.\n",
        "\n",
        "Завдання: реалізувати в класах наведені вище умови."
      ],
      "metadata": {
        "id": "1JtNqEiWHC-t"
      }
    },
    {
      "cell_type": "code",
      "source": [
        "from datetime import datetime\n",
        "from collections import UserList, deque\n",
        "\n",
        "class Person:\n",
        "    def __init__(self, name, surname):\n",
        "        self.name = name\n",
        "        self.surname = surname\n",
        "\n",
        "class NoRight(Exception):\n",
        "    pass\n",
        "\n",
        "class Disease:\n",
        "    def __init__(self, name, doctor):\n",
        "        self.name = name\n",
        "        self.doctor = doctor\n",
        "        self.treatment = list()\n",
        "        self.time = datetime.now()\n",
        "        self.cured = False\n",
        "        self.cure_time = None\n",
        "\n",
        "    def cure(self):\n",
        "        self.cured = True\n",
        "        self.cure_time = datetime.now()\n",
        "\n",
        "    def treat(self, treatment):\n",
        "        self.treatment.append(treatment)\n",
        "\n",
        "class Story(UserList):\n",
        "    story_size = 10\n",
        "\n",
        "    def __init__(self):\n",
        "        self.__data = deque([], self.story_size)\n",
        "        self.__data__dict = dict()\n",
        "        self.data = list()\n",
        "\n",
        "    def __getitem__(self, key=None):\n",
        "        if key is None:\n",
        "            return list(self.__data)\n",
        "        if isinstance(key, int):\n",
        "            return self.__data[key]\n",
        "        elif isinstance(key, str):\n",
        "            return self.__data__dict.get(key)\n",
        "\n",
        "    def __len__(self):\n",
        "        return len(self.__data)\n",
        "\n",
        "    def add(self, *_):\n",
        "        raise NoRight\n",
        "\n",
        "    def __add(self, disease):\n",
        "        self.__data.append(disease)\n",
        "        self.__data__dict = {des.name: des for des in self.__data}\n",
        "        self.data = [des for des in self.__data]\n",
        "\n",
        "    @property\n",
        "    def healthy(self):\n",
        "        return all([disease.cured for disease in self.__data])\n",
        "\n",
        "class Patient(Person):\n",
        "    def __init__(self, name, surname, polis):\n",
        "        super().__init__(name, surname)\n",
        "        self.polis = polis\n",
        "        self.story = Story()\n",
        "\n",
        "    @property\n",
        "    def healthy(self):\n",
        "        return self.story.healthy\n",
        "\n",
        "class Doctor(Person):\n",
        "    def __init__(self, name, surname, position):\n",
        "        super().__init__(name, surname)\n",
        "        self.position = position\n",
        "\n",
        "    def add(self, patient, disease_name):\n",
        "        des = Disease(disease_name, ' '.join((self.name, self.surname)))\n",
        "        patient.story._Story__add(des)\n",
        "\n",
        "    def treat(self, patient, disease_name, treatment):\n",
        "        patient.story[disease_name].treat(treatment)"
      ],
      "metadata": {
        "id": "dzHqWJ1zHGYM"
      },
      "execution_count": null,
      "outputs": []
    },
    {
      "cell_type": "code",
      "source": [
        "doctor_surg = Doctor('Bill', \"Klinton\", \"Head\")\n",
        "doctor_tera = Doctor('Tom', 'Jerry', 'Therapist')\n",
        "\n",
        "patient_one = Patient(\"George\", 'Bush', 123456789)\n",
        "patient_two = Patient('Barak', 'Obama', 987654321)\n",
        "\n",
        "doctor_tera.add(patient_one, 'flu')\n",
        "doctor_surg.add(patient_two, 'appendicit')\n",
        "\n",
        "print(patient_one.story['flu'].time)\n",
        "print(patient_two.story['appendicit'].time)\n",
        "\n",
        "doctor_tera.treat(patient_one, 'flu', 'medicine')\n",
        "doctor_surg.treat(patient_two, 'appendicit', 'operation')\n",
        "\n",
        "print(patient_one.story['flu'].treatment)\n",
        "print(patient_two.story['appendicit'].treatment)\n",
        "\n",
        "print(patient_one.healthy)\n",
        "\n",
        "patient_one.story['flu'].cure()\n",
        "print(patient_one.healthy)"
      ],
      "metadata": {
        "id": "s-nRDqPUHMTC"
      },
      "execution_count": null,
      "outputs": []
    }
  ]
}